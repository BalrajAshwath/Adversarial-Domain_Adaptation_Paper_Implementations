{
 "cells": [
  {
   "cell_type": "markdown",
   "metadata": {},
   "source": [
    "### Make Necessary Imports"
   ]
  },
  {
   "cell_type": "code",
   "execution_count": 1,
   "metadata": {},
   "outputs": [],
   "source": [
    "import argparse\n",
    "\n",
    "import numpy as np\n",
    "import torch\n",
    "from torch.utils.data import DataLoader\n",
    "from torch.utils.data.sampler import SubsetRandomSampler\n",
    "from torchvision.datasets import MNIST\n",
    "from torchvision.transforms import Compose, ToTensor\n",
    "from tqdm import tqdm\n",
    "import matplotlib.pyplot as plt\n",
    "%matplotlib inline\n",
    "\n",
    "import config\n",
    "from models import Net\n",
    "from utils import GrayscaleToRgb"
   ]
  },
  {
   "cell_type": "markdown",
   "metadata": {},
   "source": [
    "If CUDA-enabled GPU isn't found, we run on CPU "
   ]
  },
  {
   "cell_type": "code",
   "execution_count": 2,
   "metadata": {},
   "outputs": [],
   "source": [
    "device = torch.device('cuda' if torch.cuda.is_available() else 'cpu')"
   ]
  },
  {
   "cell_type": "markdown",
   "metadata": {},
   "source": [
    "### Define train and val dataloaders"
   ]
  },
  {
   "cell_type": "code",
   "execution_count": 3,
   "metadata": {},
   "outputs": [],
   "source": [
    "def create_dataloaders(batch_size):\n",
    "    dataset = MNIST(config.DATA_DIR/'mnist', train=True, download=True,\n",
    "                    transform=Compose([GrayscaleToRgb(), ToTensor()]))\n",
    "    shuffled_indices = np.random.permutation(len(dataset))\n",
    "    train_idx = shuffled_indices[:int(0.8*len(dataset))]\n",
    "    val_idx = shuffled_indices[int(0.8*len(dataset)):]\n",
    "\n",
    "    train_loader = DataLoader(dataset, batch_size=batch_size, drop_last=True,\n",
    "                              sampler=SubsetRandomSampler(train_idx),\n",
    "                              num_workers=1, pin_memory=True)\n",
    "    val_loader = DataLoader(dataset, batch_size=batch_size, drop_last=False,\n",
    "                            sampler=SubsetRandomSampler(val_idx),\n",
    "                            num_workers=1, pin_memory=True)\n",
    "    return train_loader, val_loader"
   ]
  },
  {
   "cell_type": "markdown",
   "metadata": {},
   "source": [
    "### Define function to train the model for one epoch"
   ]
  },
  {
   "cell_type": "code",
   "execution_count": 4,
   "metadata": {},
   "outputs": [],
   "source": [
    "def do_epoch(model, dataloader, criterion, optim=None):\n",
    "    total_loss = 0\n",
    "    total_accuracy = 0\n",
    "    for x, y_true in tqdm(dataloader, leave=False):\n",
    "        x, y_true = x.to(device), y_true.to(device)\n",
    "        y_pred = model(x)\n",
    "        loss = criterion(y_pred, y_true)\n",
    "\n",
    "        if optim is not None:\n",
    "            optim.zero_grad()\n",
    "            loss.backward()\n",
    "            optim.step()\n",
    "\n",
    "        total_loss += loss.item()\n",
    "        total_accuracy += (y_pred.max(1)[1] == y_true).float().mean().item()\n",
    "    mean_loss = total_loss / len(dataloader)\n",
    "    mean_accuracy = total_accuracy / len(dataloader)\n",
    "\n",
    "    return mean_loss, mean_accuracy"
   ]
  },
  {
   "cell_type": "markdown",
   "metadata": {},
   "source": [
    "### Set necessary hyperparameters"
   ]
  },
  {
   "cell_type": "code",
   "execution_count": 5,
   "metadata": {},
   "outputs": [],
   "source": [
    "batch_size = 64\n",
    "epochs = 30\n",
    "\n",
    "train_loader, val_loader = create_dataloaders(batch_size)\n",
    "\n",
    "model = Net().to(device)\n",
    "optim = torch.optim.Adam(model.parameters())\n",
    "lr_schedule = torch.optim.lr_scheduler.ReduceLROnPlateau(optim, patience=1, verbose=True)\n",
    "criterion = torch.nn.CrossEntropyLoss()"
   ]
  },
  {
   "cell_type": "markdown",
   "metadata": {},
   "source": [
    "### Train the model"
   ]
  },
  {
   "cell_type": "code",
   "execution_count": 6,
   "metadata": {
    "scrolled": false
   },
   "outputs": [
    {
     "name": "stderr",
     "output_type": "stream",
     "text": [
      "                                                                                                                                                    \r"
     ]
    },
    {
     "name": "stdout",
     "output_type": "stream",
     "text": [
      "Epoch 001: train_loss=0.5734, train_accuracy=0.8191 val_loss=0.1213, val_accuracy=0.9646\n",
      "Saving model...\n"
     ]
    },
    {
     "name": "stderr",
     "output_type": "stream",
     "text": [
      "                                                                                                                                                    \r"
     ]
    },
    {
     "name": "stdout",
     "output_type": "stream",
     "text": [
      "Epoch 002: train_loss=0.2656, train_accuracy=0.9216 val_loss=0.0868, val_accuracy=0.9751\n",
      "Saving model...\n"
     ]
    },
    {
     "name": "stderr",
     "output_type": "stream",
     "text": [
      "                                                                                                                                                    \r"
     ]
    },
    {
     "name": "stdout",
     "output_type": "stream",
     "text": [
      "Epoch 003: train_loss=0.2189, train_accuracy=0.9353 val_loss=0.0760, val_accuracy=0.9786\n",
      "Saving model...\n"
     ]
    },
    {
     "name": "stderr",
     "output_type": "stream",
     "text": [
      "                                                                                                                                                    \r"
     ]
    },
    {
     "name": "stdout",
     "output_type": "stream",
     "text": [
      "Epoch 004: train_loss=0.1962, train_accuracy=0.9417 val_loss=0.0704, val_accuracy=0.9787\n",
      "Saving model...\n"
     ]
    },
    {
     "name": "stderr",
     "output_type": "stream",
     "text": [
      "                                                                                                                                                    \r"
     ]
    },
    {
     "name": "stdout",
     "output_type": "stream",
     "text": [
      "Epoch 005: train_loss=0.1807, train_accuracy=0.9463 val_loss=0.0724, val_accuracy=0.9790\n",
      "Saving model...\n"
     ]
    },
    {
     "name": "stderr",
     "output_type": "stream",
     "text": [
      "                                                                                                                                                    \r"
     ]
    },
    {
     "name": "stdout",
     "output_type": "stream",
     "text": [
      "Epoch 006: train_loss=0.1673, train_accuracy=0.9514 val_loss=0.0657, val_accuracy=0.9809\n",
      "Saving model...\n"
     ]
    },
    {
     "name": "stderr",
     "output_type": "stream",
     "text": [
      "                                                                                                                                                    \r"
     ]
    },
    {
     "name": "stdout",
     "output_type": "stream",
     "text": [
      "Epoch 007: train_loss=0.1606, train_accuracy=0.9536 val_loss=0.0595, val_accuracy=0.9820\n",
      "Saving model...\n"
     ]
    },
    {
     "name": "stderr",
     "output_type": "stream",
     "text": [
      "                                                                                                                                                    \r"
     ]
    },
    {
     "name": "stdout",
     "output_type": "stream",
     "text": [
      "Epoch 008: train_loss=0.1509, train_accuracy=0.9557 val_loss=0.0523, val_accuracy=0.9840\n",
      "Saving model...\n"
     ]
    },
    {
     "name": "stderr",
     "output_type": "stream",
     "text": [
      "                                                                                                                                                    \r"
     ]
    },
    {
     "name": "stdout",
     "output_type": "stream",
     "text": [
      "Epoch 009: train_loss=0.1443, train_accuracy=0.9570 val_loss=0.0520, val_accuracy=0.9846\n",
      "Saving model...\n"
     ]
    },
    {
     "name": "stderr",
     "output_type": "stream",
     "text": [
      "                                                                                                                                                    \r"
     ]
    },
    {
     "name": "stdout",
     "output_type": "stream",
     "text": [
      "Epoch 010: train_loss=0.1430, train_accuracy=0.9589 val_loss=0.0545, val_accuracy=0.9836\n"
     ]
    },
    {
     "name": "stderr",
     "output_type": "stream",
     "text": [
      "                                                                                                                                                    \r"
     ]
    },
    {
     "name": "stdout",
     "output_type": "stream",
     "text": [
      "Epoch 011: train_loss=0.1369, train_accuracy=0.9597 val_loss=0.0503, val_accuracy=0.9845\n"
     ]
    },
    {
     "name": "stderr",
     "output_type": "stream",
     "text": [
      "                                                                                                                                                    \r"
     ]
    },
    {
     "name": "stdout",
     "output_type": "stream",
     "text": [
      "Epoch 012: train_loss=0.1304, train_accuracy=0.9619 val_loss=0.0461, val_accuracy=0.9859\n",
      "Saving model...\n"
     ]
    },
    {
     "name": "stderr",
     "output_type": "stream",
     "text": [
      "                                                                                                                                                    \r"
     ]
    },
    {
     "name": "stdout",
     "output_type": "stream",
     "text": [
      "Epoch 013: train_loss=0.1261, train_accuracy=0.9624 val_loss=0.0480, val_accuracy=0.9858\n"
     ]
    },
    {
     "name": "stderr",
     "output_type": "stream",
     "text": [
      "                                                                                                                                                    \r"
     ]
    },
    {
     "name": "stdout",
     "output_type": "stream",
     "text": [
      "Epoch 014: train_loss=0.1263, train_accuracy=0.9626 val_loss=0.0473, val_accuracy=0.9864\n",
      "Saving model...\n",
      "Epoch    13: reducing learning rate of group 0 to 1.0000e-04.\n"
     ]
    },
    {
     "name": "stderr",
     "output_type": "stream",
     "text": [
      "                                                                                                                                                    \r"
     ]
    },
    {
     "name": "stdout",
     "output_type": "stream",
     "text": [
      "Epoch 015: train_loss=0.1127, train_accuracy=0.9670 val_loss=0.0449, val_accuracy=0.9870\n",
      "Saving model...\n"
     ]
    },
    {
     "name": "stderr",
     "output_type": "stream",
     "text": [
      "                                                                                                                                                    \r"
     ]
    },
    {
     "name": "stdout",
     "output_type": "stream",
     "text": [
      "Epoch 016: train_loss=0.1065, train_accuracy=0.9686 val_loss=0.0432, val_accuracy=0.9870\n"
     ]
    },
    {
     "name": "stderr",
     "output_type": "stream",
     "text": [
      "                                                                                                                                                    \r"
     ]
    },
    {
     "name": "stdout",
     "output_type": "stream",
     "text": [
      "Epoch 017: train_loss=0.1066, train_accuracy=0.9691 val_loss=0.0441, val_accuracy=0.9872\n",
      "Saving model...\n"
     ]
    },
    {
     "name": "stderr",
     "output_type": "stream",
     "text": [
      "                                                                                                                                                    \r"
     ]
    },
    {
     "name": "stdout",
     "output_type": "stream",
     "text": [
      "Epoch 018: train_loss=0.1003, train_accuracy=0.9704 val_loss=0.0439, val_accuracy=0.9875\n",
      "Saving model...\n",
      "Epoch    17: reducing learning rate of group 0 to 1.0000e-05.\n"
     ]
    },
    {
     "name": "stderr",
     "output_type": "stream",
     "text": [
      "                                                                                                                                                    \r"
     ]
    },
    {
     "name": "stdout",
     "output_type": "stream",
     "text": [
      "Epoch 019: train_loss=0.1066, train_accuracy=0.9697 val_loss=0.0433, val_accuracy=0.9875\n"
     ]
    },
    {
     "name": "stderr",
     "output_type": "stream",
     "text": [
      "                                                                                                                                                    \r"
     ]
    },
    {
     "name": "stdout",
     "output_type": "stream",
     "text": [
      "Epoch 020: train_loss=0.0997, train_accuracy=0.9713 val_loss=0.0434, val_accuracy=0.9874\n",
      "Epoch    19: reducing learning rate of group 0 to 1.0000e-06.\n"
     ]
    },
    {
     "name": "stderr",
     "output_type": "stream",
     "text": [
      "                                                                                                                                                    \r"
     ]
    },
    {
     "name": "stdout",
     "output_type": "stream",
     "text": [
      "Epoch 021: train_loss=0.0948, train_accuracy=0.9714 val_loss=0.0431, val_accuracy=0.9875\n"
     ]
    },
    {
     "name": "stderr",
     "output_type": "stream",
     "text": [
      "                                                                                                                                                    \r"
     ]
    },
    {
     "name": "stdout",
     "output_type": "stream",
     "text": [
      "Epoch 022: train_loss=0.1001, train_accuracy=0.9706 val_loss=0.0431, val_accuracy=0.9875\n"
     ]
    },
    {
     "name": "stderr",
     "output_type": "stream",
     "text": [
      "                                                                                                                                                    \r"
     ]
    },
    {
     "name": "stdout",
     "output_type": "stream",
     "text": [
      "Epoch 023: train_loss=0.0991, train_accuracy=0.9709 val_loss=0.0431, val_accuracy=0.9875\n"
     ]
    },
    {
     "name": "stderr",
     "output_type": "stream",
     "text": [
      "                                                                                                                                                    \r"
     ]
    },
    {
     "name": "stdout",
     "output_type": "stream",
     "text": [
      "Epoch 024: train_loss=0.0998, train_accuracy=0.9707 val_loss=0.0431, val_accuracy=0.9875\n"
     ]
    },
    {
     "name": "stderr",
     "output_type": "stream",
     "text": [
      "                                                                                                                                                    \r"
     ]
    },
    {
     "name": "stdout",
     "output_type": "stream",
     "text": [
      "Epoch 025: train_loss=0.1001, train_accuracy=0.9704 val_loss=0.0431, val_accuracy=0.9875\n"
     ]
    },
    {
     "name": "stderr",
     "output_type": "stream",
     "text": [
      "                                                                                                                                                    \r"
     ]
    },
    {
     "name": "stdout",
     "output_type": "stream",
     "text": [
      "Epoch 026: train_loss=0.1020, train_accuracy=0.9698 val_loss=0.0432, val_accuracy=0.9874\n",
      "Epoch    25: reducing learning rate of group 0 to 1.0000e-07.\n"
     ]
    },
    {
     "name": "stderr",
     "output_type": "stream",
     "text": [
      "                                                                                                                                                    \r"
     ]
    },
    {
     "name": "stdout",
     "output_type": "stream",
     "text": [
      "Epoch 027: train_loss=0.1008, train_accuracy=0.9701 val_loss=0.0432, val_accuracy=0.9874\n"
     ]
    },
    {
     "name": "stderr",
     "output_type": "stream",
     "text": [
      "                                                                                                                                                    \r"
     ]
    },
    {
     "name": "stdout",
     "output_type": "stream",
     "text": [
      "Epoch 028: train_loss=0.0999, train_accuracy=0.9703 val_loss=0.0430, val_accuracy=0.9875\n"
     ]
    },
    {
     "name": "stderr",
     "output_type": "stream",
     "text": [
      "                                                                                                                                                    \r"
     ]
    },
    {
     "name": "stdout",
     "output_type": "stream",
     "text": [
      "Epoch 029: train_loss=0.1036, train_accuracy=0.9697 val_loss=0.0431, val_accuracy=0.9874\n"
     ]
    },
    {
     "name": "stderr",
     "output_type": "stream",
     "text": [
      "                                                                                                                                                    \r"
     ]
    },
    {
     "name": "stdout",
     "output_type": "stream",
     "text": [
      "Epoch 030: train_loss=0.0997, train_accuracy=0.9701 val_loss=0.0430, val_accuracy=0.9875\n"
     ]
    }
   ],
   "source": [
    "train_losses = []\n",
    "train_accuracies = []\n",
    "val_losses = []\n",
    "val_accuracies = []\n",
    "\n",
    "best_accuracy = 0\n",
    "for epoch in range(1, epochs+1):\n",
    "    model.train()\n",
    "    train_loss, train_accuracy = do_epoch(model, train_loader, criterion, optim=optim)\n",
    "    train_losses.append(train_loss)\n",
    "    train_accuracies.append(train_accuracy)\n",
    "    \n",
    "    model.eval()\n",
    "    with torch.no_grad():\n",
    "        val_loss, val_accuracy = do_epoch(model, val_loader, criterion, optim=None)\n",
    "        val_losses.append(val_loss)\n",
    "        val_accuracies.append(val_accuracy)\n",
    "        \n",
    "    tqdm.write(f'Epoch {epoch:03d}: train_loss={train_loss:.4f}, train_accuracy={train_accuracy:.4f} '\n",
    "               f'val_loss={val_loss:.4f}, val_accuracy={val_accuracy:.4f}')\n",
    "\n",
    "    if val_accuracy > best_accuracy:\n",
    "        print('Saving model...')\n",
    "        best_accuracy = val_accuracy\n",
    "        torch.save(model.state_dict(), 'trained_models/source.pt')\n",
    "\n",
    "    lr_schedule.step(val_loss)\n",
    "    "
   ]
  },
  {
   "cell_type": "code",
   "execution_count": null,
   "metadata": {},
   "outputs": [],
   "source": []
  }
 ],
 "metadata": {
  "kernelspec": {
   "display_name": "Python 3",
   "language": "python",
   "name": "python3"
  },
  "language_info": {
   "codemirror_mode": {
    "name": "ipython",
    "version": 3
   },
   "file_extension": ".py",
   "mimetype": "text/x-python",
   "name": "python",
   "nbconvert_exporter": "python",
   "pygments_lexer": "ipython3",
   "version": "3.7.4"
  }
 },
 "nbformat": 4,
 "nbformat_minor": 2
}
