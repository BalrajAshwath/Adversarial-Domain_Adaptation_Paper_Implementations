{
 "cells": [
  {
   "cell_type": "markdown",
   "metadata": {},
   "source": [
    "### Make Necessary Imports"
   ]
  },
  {
   "cell_type": "code",
   "execution_count": 1,
   "metadata": {},
   "outputs": [],
   "source": [
    "import argparse\n",
    "\n",
    "import numpy as np\n",
    "import torch\n",
    "from torch.utils.data import DataLoader\n",
    "from torchvision.datasets import MNIST\n",
    "from torchvision.transforms import Compose, ToTensor\n",
    "from tqdm import tqdm\n",
    "\n",
    "from data import MNISTM\n",
    "from models import Net"
   ]
  },
  {
   "cell_type": "markdown",
   "metadata": {},
   "source": [
    "If CUDA-enabled GPU isn't found, we run on CPU."
   ]
  },
  {
   "cell_type": "code",
   "execution_count": 2,
   "metadata": {},
   "outputs": [],
   "source": [
    "device = torch.device('cuda' if torch.cuda.is_available() else 'cpu')"
   ]
  },
  {
   "cell_type": "markdown",
   "metadata": {},
   "source": [
    "Change the path of the saved checkpoint for source domain trained model, if necessary. Available models are RevGrad, ADDA & WDGRL."
   ]
  },
  {
   "cell_type": "code",
   "execution_count": 3,
   "metadata": {},
   "outputs": [],
   "source": [
    "# Uncomment the corresponding `MODEL_FILE` line for the model being tested on \n",
    "\n",
    "MODEL_FILE = \"trained_models/revgrad.pt\"    # For RevGrad\n",
    "# MODEL_FILE = \"trained_models/adda.pt\"    # For ADDA\n",
    "# MODEL_FILE = \"trained_models/wdgrl.pt\"    # For WDGRL\n",
    "batch_size = 256"
   ]
  },
  {
   "cell_type": "markdown",
   "metadata": {},
   "source": [
    "### Test the model"
   ]
  },
  {
   "cell_type": "code",
   "execution_count": 4,
   "metadata": {},
   "outputs": [
    {
     "name": "stderr",
     "output_type": "stream",
     "text": [
      "                                                                                                                                                    \r"
     ]
    },
    {
     "name": "stdout",
     "output_type": "stream",
     "text": [
      "Accuracy on target data: 0.8107\n"
     ]
    }
   ],
   "source": [
    "dataset = MNISTM(train=False)\n",
    "dataloader = DataLoader(dataset, batch_size=batch_size, shuffle=False,\n",
    "                        drop_last=False, num_workers=1, pin_memory=True)\n",
    "\n",
    "model = Net().to(device)\n",
    "model.load_state_dict(torch.load(MODEL_FILE))\n",
    "model.eval()\n",
    "\n",
    "total_accuracy = 0\n",
    "with torch.no_grad():\n",
    "    for x, y_true in tqdm(dataloader, leave=False):\n",
    "        x, y_true = x.to(device), y_true.to(device)\n",
    "        y_pred = model(x)\n",
    "        total_accuracy += (y_pred.max(1)[1] == y_true).float().mean().item()\n",
    "\n",
    "mean_accuracy = total_accuracy / len(dataloader)\n",
    "print(f'Accuracy on target data: {mean_accuracy:.4f}')"
   ]
  },
  {
   "cell_type": "code",
   "execution_count": null,
   "metadata": {},
   "outputs": [],
   "source": []
  }
 ],
 "metadata": {
  "kernelspec": {
   "display_name": "Python 3",
   "language": "python",
   "name": "python3"
  },
  "language_info": {
   "codemirror_mode": {
    "name": "ipython",
    "version": 3
   },
   "file_extension": ".py",
   "mimetype": "text/x-python",
   "name": "python",
   "nbconvert_exporter": "python",
   "pygments_lexer": "ipython3",
   "version": "3.7.4"
  }
 },
 "nbformat": 4,
 "nbformat_minor": 2
}
